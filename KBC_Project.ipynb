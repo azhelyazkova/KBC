{
 "cells": [
  {
   "cell_type": "code",
   "execution_count": 1,
   "id": "initial_id",
   "metadata": {
    "ExecuteTime": {
     "end_time": "2024-04-02T10:04:00.805815400Z",
     "start_time": "2024-04-02T10:03:19.234073300Z"
    }
   },
   "outputs": [
    {
     "name": "stdout",
     "output_type": "stream",
     "text": [
      "Requirement already satisfied: pandas in c:\\users\\unist\\anaconda3\\lib\\site-packages (2.0.3)\n",
      "Requirement already satisfied: python-dateutil>=2.8.2 in c:\\users\\unist\\anaconda3\\lib\\site-packages (from pandas) (2.8.2)\n",
      "Requirement already satisfied: pytz>=2020.1 in c:\\users\\unist\\anaconda3\\lib\\site-packages (from pandas) (2023.3.post1)\n",
      "Requirement already satisfied: tzdata>=2022.1 in c:\\users\\unist\\anaconda3\\lib\\site-packages (from pandas) (2023.3)\n",
      "Requirement already satisfied: numpy>=1.21.0 in c:\\users\\unist\\anaconda3\\lib\\site-packages (from pandas) (1.24.3)\n",
      "Requirement already satisfied: six>=1.5 in c:\\users\\unist\\anaconda3\\lib\\site-packages (from python-dateutil>=2.8.2->pandas) (1.16.0)\n"
     ]
    }
   ],
   "source": [
    "!pip install pandas\n",
    "import pandas as pd"
   ]
  },
  {
   "cell_type": "code",
   "execution_count": 2,
   "id": "5651bd6fd29e4011",
   "metadata": {
    "ExecuteTime": {
     "end_time": "2024-04-02T10:10:31.054373200Z",
     "start_time": "2024-04-02T10:10:30.972236100Z"
    }
   },
   "outputs": [],
   "source": [
    "data = pd.read_csv('data/Data prep Homogeneity.csv')"
   ]
  },
  {
   "cell_type": "code",
   "execution_count": 3,
   "id": "5b114e2aa17d1ff3",
   "metadata": {
    "ExecuteTime": {
     "end_time": "2024-04-02T10:10:38.849089300Z",
     "start_time": "2024-04-02T10:10:38.793330400Z"
    }
   },
   "outputs": [
    {
     "data": {
      "text/html": [
       "<div>\n",
       "<style scoped>\n",
       "    .dataframe tbody tr th:only-of-type {\n",
       "        vertical-align: middle;\n",
       "    }\n",
       "\n",
       "    .dataframe tbody tr th {\n",
       "        vertical-align: top;\n",
       "    }\n",
       "\n",
       "    .dataframe thead th {\n",
       "        text-align: right;\n",
       "    }\n",
       "</style>\n",
       "<table border=\"1\" class=\"dataframe\">\n",
       "  <thead>\n",
       "    <tr style=\"text-align: right;\">\n",
       "      <th></th>\n",
       "      <th>cohort_obs_dt</th>\n",
       "      <th>segment_calibration</th>\n",
       "      <th>consolidated_id</th>\n",
       "      <th>default_first_in_12M_dt</th>\n",
       "      <th>pd_model_class</th>\n",
       "      <th>pd_model_pct</th>\n",
       "      <th>pd_decided_class</th>\n",
       "      <th>pd_decided_pct</th>\n",
       "      <th>issued_or_outstanding_amt_EUR</th>\n",
       "      <th>granted_amt_EUR</th>\n",
       "      <th>EaD_amt_EUR</th>\n",
       "      <th>RWA_amt_EUR</th>\n",
       "      <th>default_flg</th>\n",
       "      <th>Validation_sample</th>\n",
       "    </tr>\n",
       "  </thead>\n",
       "  <tbody>\n",
       "    <tr>\n",
       "      <th>0</th>\n",
       "      <td>12/31/2022</td>\n",
       "      <td>CORP</td>\n",
       "      <td>45524168</td>\n",
       "      <td>NaN</td>\n",
       "      <td>3.0</td>\n",
       "      <td>0.002802</td>\n",
       "      <td>3</td>\n",
       "      <td>0.002802</td>\n",
       "      <td>1864950.00</td>\n",
       "      <td>2000002.00</td>\n",
       "      <td>1966239.00</td>\n",
       "      <td>1.175231e+06</td>\n",
       "      <td>0</td>\n",
       "      <td>1</td>\n",
       "    </tr>\n",
       "    <tr>\n",
       "      <th>1</th>\n",
       "      <td>12/31/2022</td>\n",
       "      <td>CORP</td>\n",
       "      <td>49486671</td>\n",
       "      <td>NaN</td>\n",
       "      <td>7.0</td>\n",
       "      <td>0.045300</td>\n",
       "      <td>7</td>\n",
       "      <td>0.045300</td>\n",
       "      <td>359205.02</td>\n",
       "      <td>359205.02</td>\n",
       "      <td>359205.02</td>\n",
       "      <td>3.393121e+05</td>\n",
       "      <td>0</td>\n",
       "      <td>1</td>\n",
       "    </tr>\n",
       "    <tr>\n",
       "      <th>2</th>\n",
       "      <td>12/31/2022</td>\n",
       "      <td>CORP</td>\n",
       "      <td>16688984</td>\n",
       "      <td>NaN</td>\n",
       "      <td>8.0</td>\n",
       "      <td>0.110622</td>\n",
       "      <td>8</td>\n",
       "      <td>0.110622</td>\n",
       "      <td>4793951.80</td>\n",
       "      <td>5052909.80</td>\n",
       "      <td>4988170.80</td>\n",
       "      <td>1.056688e+07</td>\n",
       "      <td>0</td>\n",
       "      <td>1</td>\n",
       "    </tr>\n",
       "    <tr>\n",
       "      <th>3</th>\n",
       "      <td>12/31/2022</td>\n",
       "      <td>CORP</td>\n",
       "      <td>87483371</td>\n",
       "      <td>NaN</td>\n",
       "      <td>4.0</td>\n",
       "      <td>0.004900</td>\n",
       "      <td>4</td>\n",
       "      <td>0.004900</td>\n",
       "      <td>471752.00</td>\n",
       "      <td>994566.00</td>\n",
       "      <td>863863.10</td>\n",
       "      <td>4.333771e+05</td>\n",
       "      <td>0</td>\n",
       "      <td>1</td>\n",
       "    </tr>\n",
       "    <tr>\n",
       "      <th>4</th>\n",
       "      <td>12/31/2022</td>\n",
       "      <td>CORP</td>\n",
       "      <td>89713534</td>\n",
       "      <td>NaN</td>\n",
       "      <td>5.0</td>\n",
       "      <td>0.011300</td>\n",
       "      <td>5</td>\n",
       "      <td>0.011300</td>\n",
       "      <td>1396378.72</td>\n",
       "      <td>1819808.72</td>\n",
       "      <td>1713951.72</td>\n",
       "      <td>1.245022e+06</td>\n",
       "      <td>0</td>\n",
       "      <td>1</td>\n",
       "    </tr>\n",
       "  </tbody>\n",
       "</table>\n",
       "</div>"
      ],
      "text/plain": [
       "  cohort_obs_dt segment_calibration  consolidated_id default_first_in_12M_dt  \\\n",
       "0    12/31/2022                CORP         45524168                     NaN   \n",
       "1    12/31/2022                CORP         49486671                     NaN   \n",
       "2    12/31/2022                CORP         16688984                     NaN   \n",
       "3    12/31/2022                CORP         87483371                     NaN   \n",
       "4    12/31/2022                CORP         89713534                     NaN   \n",
       "\n",
       "   pd_model_class  pd_model_pct  pd_decided_class  pd_decided_pct  \\\n",
       "0             3.0      0.002802                 3        0.002802   \n",
       "1             7.0      0.045300                 7        0.045300   \n",
       "2             8.0      0.110622                 8        0.110622   \n",
       "3             4.0      0.004900                 4        0.004900   \n",
       "4             5.0      0.011300                 5        0.011300   \n",
       "\n",
       "   issued_or_outstanding_amt_EUR  granted_amt_EUR  EaD_amt_EUR   RWA_amt_EUR  \\\n",
       "0                     1864950.00       2000002.00   1966239.00  1.175231e+06   \n",
       "1                      359205.02        359205.02    359205.02  3.393121e+05   \n",
       "2                     4793951.80       5052909.80   4988170.80  1.056688e+07   \n",
       "3                      471752.00        994566.00    863863.10  4.333771e+05   \n",
       "4                     1396378.72       1819808.72   1713951.72  1.245022e+06   \n",
       "\n",
       "   default_flg  Validation_sample  \n",
       "0            0                  1  \n",
       "1            0                  1  \n",
       "2            0                  1  \n",
       "3            0                  1  \n",
       "4            0                  1  "
      ]
     },
     "execution_count": 3,
     "metadata": {},
     "output_type": "execute_result"
    }
   ],
   "source": [
    "data.head()"
   ]
  },
  {
   "cell_type": "code",
   "execution_count": 5,
   "id": "672996c78bf9ff7e",
   "metadata": {
    "ExecuteTime": {
     "end_time": "2024-04-02T10:11:09.816382400Z",
     "start_time": "2024-04-02T10:11:09.740925Z"
    }
   },
   "outputs": [
    {
     "name": "stdout",
     "output_type": "stream",
     "text": [
      "<class 'pandas.core.frame.DataFrame'>\n",
      "RangeIndex: 1488 entries, 0 to 1487\n",
      "Data columns (total 14 columns):\n",
      " #   Column                         Non-Null Count  Dtype  \n",
      "---  ------                         --------------  -----  \n",
      " 0   cohort_obs_dt                  1488 non-null   object \n",
      " 1   segment_calibration            1488 non-null   object \n",
      " 2   consolidated_id                1488 non-null   int64  \n",
      " 3   default_first_in_12M_dt        2 non-null      object \n",
      " 4   pd_model_class                 1486 non-null   float64\n",
      " 5   pd_model_pct                   1486 non-null   float64\n",
      " 6   pd_decided_class               1488 non-null   int64  \n",
      " 7   pd_decided_pct                 1488 non-null   float64\n",
      " 8   issued_or_outstanding_amt_EUR  1488 non-null   float64\n",
      " 9   granted_amt_EUR                1488 non-null   float64\n",
      " 10  EaD_amt_EUR                    1488 non-null   float64\n",
      " 11  RWA_amt_EUR                    1432 non-null   float64\n",
      " 12  default_flg                    1488 non-null   int64  \n",
      " 13  Validation_sample              1488 non-null   int64  \n",
      "dtypes: float64(7), int64(4), object(3)\n",
      "memory usage: 162.9+ KB\n"
     ]
    }
   ],
   "source": [
    "data.info()"
   ]
  },
  {
   "cell_type": "code",
   "execution_count": 8,
   "id": "d6d2c8556616a13d",
   "metadata": {
    "ExecuteTime": {
     "end_time": "2024-04-02T10:14:42.380333300Z",
     "start_time": "2024-04-02T10:14:42.356176500Z"
    }
   },
   "outputs": [
    {
     "data": {
      "text/plain": [
       "array(['12/31/2022', '12/31/2021'], dtype=object)"
      ]
     },
     "execution_count": 8,
     "metadata": {},
     "output_type": "execute_result"
    }
   ],
   "source": [
    "data.cohort_obs_dt.unique()"
   ]
  },
  {
   "cell_type": "code",
   "execution_count": 4,
   "id": "985f4857d36c19b2",
   "metadata": {},
   "outputs": [
    {
     "data": {
      "text/html": [
       "<div>\n",
       "<style scoped>\n",
       "    .dataframe tbody tr th:only-of-type {\n",
       "        vertical-align: middle;\n",
       "    }\n",
       "\n",
       "    .dataframe tbody tr th {\n",
       "        vertical-align: top;\n",
       "    }\n",
       "\n",
       "    .dataframe thead th {\n",
       "        text-align: right;\n",
       "    }\n",
       "</style>\n",
       "<table border=\"1\" class=\"dataframe\">\n",
       "  <thead>\n",
       "    <tr style=\"text-align: right;\">\n",
       "      <th></th>\n",
       "      <th>cohort_obs_dt</th>\n",
       "      <th>segment_calibration</th>\n",
       "      <th>consolidated_id</th>\n",
       "      <th>default_first_in_12M_dt</th>\n",
       "      <th>pd_model_class</th>\n",
       "      <th>pd_model_pct</th>\n",
       "      <th>pd_decided_class</th>\n",
       "      <th>pd_decided_pct</th>\n",
       "      <th>issued_or_outstanding_amt_EUR</th>\n",
       "      <th>granted_amt_EUR</th>\n",
       "      <th>EaD_amt_EUR</th>\n",
       "      <th>RWA_amt_EUR</th>\n",
       "      <th>default_flg</th>\n",
       "      <th>Validation_sample</th>\n",
       "    </tr>\n",
       "  </thead>\n",
       "  <tbody>\n",
       "    <tr>\n",
       "      <th>0</th>\n",
       "      <td>12/31/2022</td>\n",
       "      <td>CORP</td>\n",
       "      <td>45524168</td>\n",
       "      <td>NaN</td>\n",
       "      <td>3.0</td>\n",
       "      <td>0.002802</td>\n",
       "      <td>3</td>\n",
       "      <td>0.002802</td>\n",
       "      <td>1864950.00</td>\n",
       "      <td>2000002.00</td>\n",
       "      <td>1966239.00</td>\n",
       "      <td>1.175231e+06</td>\n",
       "      <td>0</td>\n",
       "      <td>1</td>\n",
       "    </tr>\n",
       "    <tr>\n",
       "      <th>1</th>\n",
       "      <td>12/31/2022</td>\n",
       "      <td>CORP</td>\n",
       "      <td>49486671</td>\n",
       "      <td>NaN</td>\n",
       "      <td>7.0</td>\n",
       "      <td>0.045300</td>\n",
       "      <td>7</td>\n",
       "      <td>0.045300</td>\n",
       "      <td>359205.02</td>\n",
       "      <td>359205.02</td>\n",
       "      <td>359205.02</td>\n",
       "      <td>3.393121e+05</td>\n",
       "      <td>0</td>\n",
       "      <td>1</td>\n",
       "    </tr>\n",
       "    <tr>\n",
       "      <th>2</th>\n",
       "      <td>12/31/2022</td>\n",
       "      <td>CORP</td>\n",
       "      <td>16688984</td>\n",
       "      <td>NaN</td>\n",
       "      <td>8.0</td>\n",
       "      <td>0.110622</td>\n",
       "      <td>8</td>\n",
       "      <td>0.110622</td>\n",
       "      <td>4793951.80</td>\n",
       "      <td>5052909.80</td>\n",
       "      <td>4988170.80</td>\n",
       "      <td>1.056688e+07</td>\n",
       "      <td>0</td>\n",
       "      <td>1</td>\n",
       "    </tr>\n",
       "    <tr>\n",
       "      <th>3</th>\n",
       "      <td>12/31/2022</td>\n",
       "      <td>CORP</td>\n",
       "      <td>87483371</td>\n",
       "      <td>NaN</td>\n",
       "      <td>4.0</td>\n",
       "      <td>0.004900</td>\n",
       "      <td>4</td>\n",
       "      <td>0.004900</td>\n",
       "      <td>471752.00</td>\n",
       "      <td>994566.00</td>\n",
       "      <td>863863.10</td>\n",
       "      <td>4.333771e+05</td>\n",
       "      <td>0</td>\n",
       "      <td>1</td>\n",
       "    </tr>\n",
       "    <tr>\n",
       "      <th>4</th>\n",
       "      <td>12/31/2022</td>\n",
       "      <td>CORP</td>\n",
       "      <td>89713534</td>\n",
       "      <td>NaN</td>\n",
       "      <td>5.0</td>\n",
       "      <td>0.011300</td>\n",
       "      <td>5</td>\n",
       "      <td>0.011300</td>\n",
       "      <td>1396378.72</td>\n",
       "      <td>1819808.72</td>\n",
       "      <td>1713951.72</td>\n",
       "      <td>1.245022e+06</td>\n",
       "      <td>0</td>\n",
       "      <td>1</td>\n",
       "    </tr>\n",
       "  </tbody>\n",
       "</table>\n",
       "</div>"
      ],
      "text/plain": [
       "  cohort_obs_dt segment_calibration  consolidated_id default_first_in_12M_dt  \\\n",
       "0    12/31/2022                CORP         45524168                     NaN   \n",
       "1    12/31/2022                CORP         49486671                     NaN   \n",
       "2    12/31/2022                CORP         16688984                     NaN   \n",
       "3    12/31/2022                CORP         87483371                     NaN   \n",
       "4    12/31/2022                CORP         89713534                     NaN   \n",
       "\n",
       "   pd_model_class  pd_model_pct  pd_decided_class  pd_decided_pct  \\\n",
       "0             3.0      0.002802                 3        0.002802   \n",
       "1             7.0      0.045300                 7        0.045300   \n",
       "2             8.0      0.110622                 8        0.110622   \n",
       "3             4.0      0.004900                 4        0.004900   \n",
       "4             5.0      0.011300                 5        0.011300   \n",
       "\n",
       "   issued_or_outstanding_amt_EUR  granted_amt_EUR  EaD_amt_EUR   RWA_amt_EUR  \\\n",
       "0                     1864950.00       2000002.00   1966239.00  1.175231e+06   \n",
       "1                      359205.02        359205.02    359205.02  3.393121e+05   \n",
       "2                     4793951.80       5052909.80   4988170.80  1.056688e+07   \n",
       "3                      471752.00        994566.00    863863.10  4.333771e+05   \n",
       "4                     1396378.72       1819808.72   1713951.72  1.245022e+06   \n",
       "\n",
       "   default_flg  Validation_sample  \n",
       "0            0                  1  \n",
       "1            0                  1  \n",
       "2            0                  1  \n",
       "3            0                  1  \n",
       "4            0                  1  "
      ]
     },
     "execution_count": 4,
     "metadata": {},
     "output_type": "execute_result"
    }
   ],
   "source": [
    "data.head()"
   ]
  },
  {
   "cell_type": "code",
   "execution_count": null,
   "id": "46562536",
   "metadata": {},
   "outputs": [],
   "source": [
    "data.head()"
   ]
  }
 ],
 "metadata": {
  "kernelspec": {
   "display_name": "Python 3 (ipykernel)",
   "language": "python",
   "name": "python3"
  },
  "language_info": {
   "codemirror_mode": {
    "name": "ipython",
    "version": 3
   },
   "file_extension": ".py",
   "mimetype": "text/x-python",
   "name": "python",
   "nbconvert_exporter": "python",
   "pygments_lexer": "ipython3",
   "version": "3.11.5"
  }
 },
 "nbformat": 4,
 "nbformat_minor": 5
}
