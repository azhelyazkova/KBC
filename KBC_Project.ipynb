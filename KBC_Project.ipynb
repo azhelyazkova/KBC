{
 "cells": [
  {
   "cell_type": "code",
   "execution_count": 2,
   "id": "initial_id",
   "metadata": {
    "collapsed": true,
    "ExecuteTime": {
     "end_time": "2024-04-02T10:04:00.805815400Z",
     "start_time": "2024-04-02T10:03:19.234073300Z"
    }
   },
   "outputs": [
    {
     "name": "stdout",
     "output_type": "stream",
     "text": [
      "Collecting pandas\n",
      "  Obtaining dependency information for pandas from https://files.pythonhosted.org/packages/93/26/2a695303a4a3194014dca7cb5d5ce08f0d2c6baa344fb5f562c642e77b2b/pandas-2.2.1-cp310-cp310-win_amd64.whl.metadata\n",
      "  Downloading pandas-2.2.1-cp310-cp310-win_amd64.whl.metadata (19 kB)\n",
      "Collecting numpy<2,>=1.22.4 (from pandas)\n",
      "  Obtaining dependency information for numpy<2,>=1.22.4 from https://files.pythonhosted.org/packages/19/77/538f202862b9183f54108557bfda67e17603fc560c384559e769321c9d92/numpy-1.26.4-cp310-cp310-win_amd64.whl.metadata\n",
      "  Downloading numpy-1.26.4-cp310-cp310-win_amd64.whl.metadata (61 kB)\n",
      "     ---------------------------------------- 0.0/61.0 kB ? eta -:--:--\n",
      "     ------------------------- ------------ 41.0/61.0 kB 960.0 kB/s eta 0:00:01\n",
      "     ---------------------------------------- 61.0/61.0 kB 1.1 MB/s eta 0:00:00\n",
      "Requirement already satisfied: python-dateutil>=2.8.2 in c:\\users\\boss\\desktop\\pythonproject2\\lib\\site-packages (from pandas) (2.9.0.post0)\n",
      "Collecting pytz>=2020.1 (from pandas)\n",
      "  Obtaining dependency information for pytz>=2020.1 from https://files.pythonhosted.org/packages/9c/3d/a121f284241f08268b21359bd425f7d4825cffc5ac5cd0e1b3d82ffd2b10/pytz-2024.1-py2.py3-none-any.whl.metadata\n",
      "  Downloading pytz-2024.1-py2.py3-none-any.whl.metadata (22 kB)\n",
      "Collecting tzdata>=2022.7 (from pandas)\n",
      "  Obtaining dependency information for tzdata>=2022.7 from https://files.pythonhosted.org/packages/65/58/f9c9e6be752e9fcb8b6a0ee9fb87e6e7a1f6bcab2cdc73f02bb7ba91ada0/tzdata-2024.1-py2.py3-none-any.whl.metadata\n",
      "  Downloading tzdata-2024.1-py2.py3-none-any.whl.metadata (1.4 kB)\n",
      "Requirement already satisfied: six>=1.5 in c:\\users\\boss\\desktop\\pythonproject2\\lib\\site-packages (from python-dateutil>=2.8.2->pandas) (1.16.0)\n",
      "Downloading pandas-2.2.1-cp310-cp310-win_amd64.whl (11.6 MB)\n",
      "   ---------------------------------------- 0.0/11.6 MB ? eta -:--:--\n",
      "    --------------------------------------- 0.2/11.6 MB 4.2 MB/s eta 0:00:03\n",
      "   - -------------------------------------- 0.5/11.6 MB 5.7 MB/s eta 0:00:02\n",
      "   --- ------------------------------------ 1.0/11.6 MB 8.2 MB/s eta 0:00:02\n",
      "   ------- -------------------------------- 2.1/11.6 MB 11.3 MB/s eta 0:00:01\n",
      "   ------------ --------------------------- 3.6/11.6 MB 15.2 MB/s eta 0:00:01\n",
      "   ------------------ --------------------- 5.4/11.6 MB 19.1 MB/s eta 0:00:01\n",
      "   ------------------ --------------------- 5.4/11.6 MB 19.1 MB/s eta 0:00:01\n",
      "   -------------------------- ------------- 7.7/11.6 MB 20.6 MB/s eta 0:00:01\n",
      "   --------------------------------- ------ 9.7/11.6 MB 24.0 MB/s eta 0:00:01\n",
      "   ---------------------------------------  11.6/11.6 MB 34.4 MB/s eta 0:00:01\n",
      "   ---------------------------------------- 11.6/11.6 MB 28.5 MB/s eta 0:00:00\n",
      "Downloading numpy-1.26.4-cp310-cp310-win_amd64.whl (15.8 MB)\n",
      "   ---------------------------------------- 0.0/15.8 MB ? eta -:--:--\n",
      "   ---- ----------------------------------- 1.8/15.8 MB 57.8 MB/s eta 0:00:01\n",
      "   ------- -------------------------------- 3.1/15.8 MB 39.9 MB/s eta 0:00:01\n",
      "   ------------ --------------------------- 5.0/15.8 MB 39.8 MB/s eta 0:00:01\n",
      "   ---------------- ----------------------- 6.6/15.8 MB 38.2 MB/s eta 0:00:01\n",
      "   --------------------- ------------------ 8.4/15.8 MB 38.3 MB/s eta 0:00:01\n",
      "   ------------------------- -------------- 10.0/15.8 MB 37.4 MB/s eta 0:00:01\n",
      "   ----------------------------- ---------- 11.7/15.8 MB 36.3 MB/s eta 0:00:01\n",
      "   --------------------------------- ------ 13.4/15.8 MB 38.6 MB/s eta 0:00:01\n",
      "   -------------------------------------- - 15.1/15.8 MB 36.4 MB/s eta 0:00:01\n",
      "   ---------------------------------------  15.8/15.8 MB 36.4 MB/s eta 0:00:01\n",
      "   ---------------------------------------  15.8/15.8 MB 36.4 MB/s eta 0:00:01\n",
      "   ---------------------------------------- 15.8/15.8 MB 28.5 MB/s eta 0:00:00\n",
      "Downloading pytz-2024.1-py2.py3-none-any.whl (505 kB)\n",
      "   ---------------------------------------- 0.0/505.5 kB ? eta -:--:--\n",
      "   --------------------------------------- 505.5/505.5 kB 33.0 MB/s eta 0:00:00\n",
      "Downloading tzdata-2024.1-py2.py3-none-any.whl (345 kB)\n",
      "   ---------------------------------------- 0.0/345.4 kB ? eta -:--:--\n",
      "   --------------------------------------- 345.4/345.4 kB 20.9 MB/s eta 0:00:00\n",
      "Installing collected packages: pytz, tzdata, numpy, pandas\n",
      "Successfully installed numpy-1.26.4 pandas-2.2.1 pytz-2024.1 tzdata-2024.1\n"
     ]
    },
    {
     "name": "stderr",
     "output_type": "stream",
     "text": [
      "\n",
      "[notice] A new release of pip is available: 23.2.1 -> 24.0\n",
      "[notice] To update, run: python.exe -m pip install --upgrade pip\n"
     ]
    }
   ],
   "source": [
    "!pip install pandas\n",
    "import pandas as pd"
   ]
  },
  {
   "cell_type": "code",
   "execution_count": 3,
   "outputs": [],
   "source": [
    "data = pd.read_csv('data/Data prep Homogeneity.csv')"
   ],
   "metadata": {
    "collapsed": false,
    "ExecuteTime": {
     "end_time": "2024-04-02T10:10:31.054373200Z",
     "start_time": "2024-04-02T10:10:30.972236100Z"
    }
   },
   "id": "5651bd6fd29e4011"
  },
  {
   "cell_type": "code",
   "execution_count": 4,
   "outputs": [
    {
     "data": {
      "text/plain": "  cohort_obs_dt segment_calibration  consolidated_id default_first_in_12M_dt  \\\n0    12/31/2022                CORP         45524168                     NaN   \n1    12/31/2022                CORP         49486671                     NaN   \n2    12/31/2022                CORP         16688984                     NaN   \n3    12/31/2022                CORP         87483371                     NaN   \n4    12/31/2022                CORP         89713534                     NaN   \n\n   pd_model_class  pd_model_pct  pd_decided_class  pd_decided_pct  \\\n0             3.0      0.002802                 3        0.002802   \n1             7.0      0.045300                 7        0.045300   \n2             8.0      0.110622                 8        0.110622   \n3             4.0      0.004900                 4        0.004900   \n4             5.0      0.011300                 5        0.011300   \n\n   issued_or_outstanding_amt_EUR  granted_amt_EUR  EaD_amt_EUR   RWA_amt_EUR  \\\n0                     1864950.00       2000002.00   1966239.00  1.175231e+06   \n1                      359205.02        359205.02    359205.02  3.393121e+05   \n2                     4793951.80       5052909.80   4988170.80  1.056688e+07   \n3                      471752.00        994566.00    863863.10  4.333771e+05   \n4                     1396378.72       1819808.72   1713951.72  1.245022e+06   \n\n   default_flg  Validation_sample  \n0            0                  1  \n1            0                  1  \n2            0                  1  \n3            0                  1  \n4            0                  1  ",
      "text/html": "<div>\n<style scoped>\n    .dataframe tbody tr th:only-of-type {\n        vertical-align: middle;\n    }\n\n    .dataframe tbody tr th {\n        vertical-align: top;\n    }\n\n    .dataframe thead th {\n        text-align: right;\n    }\n</style>\n<table border=\"1\" class=\"dataframe\">\n  <thead>\n    <tr style=\"text-align: right;\">\n      <th></th>\n      <th>cohort_obs_dt</th>\n      <th>segment_calibration</th>\n      <th>consolidated_id</th>\n      <th>default_first_in_12M_dt</th>\n      <th>pd_model_class</th>\n      <th>pd_model_pct</th>\n      <th>pd_decided_class</th>\n      <th>pd_decided_pct</th>\n      <th>issued_or_outstanding_amt_EUR</th>\n      <th>granted_amt_EUR</th>\n      <th>EaD_amt_EUR</th>\n      <th>RWA_amt_EUR</th>\n      <th>default_flg</th>\n      <th>Validation_sample</th>\n    </tr>\n  </thead>\n  <tbody>\n    <tr>\n      <th>0</th>\n      <td>12/31/2022</td>\n      <td>CORP</td>\n      <td>45524168</td>\n      <td>NaN</td>\n      <td>3.0</td>\n      <td>0.002802</td>\n      <td>3</td>\n      <td>0.002802</td>\n      <td>1864950.00</td>\n      <td>2000002.00</td>\n      <td>1966239.00</td>\n      <td>1.175231e+06</td>\n      <td>0</td>\n      <td>1</td>\n    </tr>\n    <tr>\n      <th>1</th>\n      <td>12/31/2022</td>\n      <td>CORP</td>\n      <td>49486671</td>\n      <td>NaN</td>\n      <td>7.0</td>\n      <td>0.045300</td>\n      <td>7</td>\n      <td>0.045300</td>\n      <td>359205.02</td>\n      <td>359205.02</td>\n      <td>359205.02</td>\n      <td>3.393121e+05</td>\n      <td>0</td>\n      <td>1</td>\n    </tr>\n    <tr>\n      <th>2</th>\n      <td>12/31/2022</td>\n      <td>CORP</td>\n      <td>16688984</td>\n      <td>NaN</td>\n      <td>8.0</td>\n      <td>0.110622</td>\n      <td>8</td>\n      <td>0.110622</td>\n      <td>4793951.80</td>\n      <td>5052909.80</td>\n      <td>4988170.80</td>\n      <td>1.056688e+07</td>\n      <td>0</td>\n      <td>1</td>\n    </tr>\n    <tr>\n      <th>3</th>\n      <td>12/31/2022</td>\n      <td>CORP</td>\n      <td>87483371</td>\n      <td>NaN</td>\n      <td>4.0</td>\n      <td>0.004900</td>\n      <td>4</td>\n      <td>0.004900</td>\n      <td>471752.00</td>\n      <td>994566.00</td>\n      <td>863863.10</td>\n      <td>4.333771e+05</td>\n      <td>0</td>\n      <td>1</td>\n    </tr>\n    <tr>\n      <th>4</th>\n      <td>12/31/2022</td>\n      <td>CORP</td>\n      <td>89713534</td>\n      <td>NaN</td>\n      <td>5.0</td>\n      <td>0.011300</td>\n      <td>5</td>\n      <td>0.011300</td>\n      <td>1396378.72</td>\n      <td>1819808.72</td>\n      <td>1713951.72</td>\n      <td>1.245022e+06</td>\n      <td>0</td>\n      <td>1</td>\n    </tr>\n  </tbody>\n</table>\n</div>"
     },
     "execution_count": 4,
     "metadata": {},
     "output_type": "execute_result"
    }
   ],
   "source": [
    "data.head()"
   ],
   "metadata": {
    "collapsed": false,
    "ExecuteTime": {
     "end_time": "2024-04-02T10:10:38.849089300Z",
     "start_time": "2024-04-02T10:10:38.793330400Z"
    }
   },
   "id": "5b114e2aa17d1ff3"
  },
  {
   "cell_type": "code",
   "execution_count": 5,
   "outputs": [
    {
     "name": "stdout",
     "output_type": "stream",
     "text": [
      "<class 'pandas.core.frame.DataFrame'>\n",
      "RangeIndex: 1488 entries, 0 to 1487\n",
      "Data columns (total 14 columns):\n",
      " #   Column                         Non-Null Count  Dtype  \n",
      "---  ------                         --------------  -----  \n",
      " 0   cohort_obs_dt                  1488 non-null   object \n",
      " 1   segment_calibration            1488 non-null   object \n",
      " 2   consolidated_id                1488 non-null   int64  \n",
      " 3   default_first_in_12M_dt        2 non-null      object \n",
      " 4   pd_model_class                 1486 non-null   float64\n",
      " 5   pd_model_pct                   1486 non-null   float64\n",
      " 6   pd_decided_class               1488 non-null   int64  \n",
      " 7   pd_decided_pct                 1488 non-null   float64\n",
      " 8   issued_or_outstanding_amt_EUR  1488 non-null   float64\n",
      " 9   granted_amt_EUR                1488 non-null   float64\n",
      " 10  EaD_amt_EUR                    1488 non-null   float64\n",
      " 11  RWA_amt_EUR                    1432 non-null   float64\n",
      " 12  default_flg                    1488 non-null   int64  \n",
      " 13  Validation_sample              1488 non-null   int64  \n",
      "dtypes: float64(7), int64(4), object(3)\n",
      "memory usage: 162.9+ KB\n"
     ]
    }
   ],
   "source": [
    "data.info()"
   ],
   "metadata": {
    "collapsed": false,
    "ExecuteTime": {
     "end_time": "2024-04-02T10:11:09.816382400Z",
     "start_time": "2024-04-02T10:11:09.740925Z"
    }
   },
   "id": "672996c78bf9ff7e"
  },
  {
   "cell_type": "code",
   "execution_count": 8,
   "outputs": [
    {
     "data": {
      "text/plain": "array(['12/31/2022', '12/31/2021'], dtype=object)"
     },
     "execution_count": 8,
     "metadata": {},
     "output_type": "execute_result"
    }
   ],
   "source": [
    "data.cohort_obs_dt.unique()"
   ],
   "metadata": {
    "collapsed": false,
    "ExecuteTime": {
     "end_time": "2024-04-02T10:14:42.380333300Z",
     "start_time": "2024-04-02T10:14:42.356176500Z"
    }
   },
   "id": "d6d2c8556616a13d"
  },
  {
   "cell_type": "code",
   "execution_count": null,
   "outputs": [],
   "source": [],
   "metadata": {
    "collapsed": false
   },
   "id": "985f4857d36c19b2"
  }
 ],
 "metadata": {
  "kernelspec": {
   "display_name": "Python 3",
   "language": "python",
   "name": "python3"
  },
  "language_info": {
   "codemirror_mode": {
    "name": "ipython",
    "version": 2
   },
   "file_extension": ".py",
   "mimetype": "text/x-python",
   "name": "python",
   "nbconvert_exporter": "python",
   "pygments_lexer": "ipython2",
   "version": "2.7.6"
  }
 },
 "nbformat": 4,
 "nbformat_minor": 5
}
